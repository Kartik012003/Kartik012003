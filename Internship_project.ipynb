{
 "cells": [
  {
   "cell_type": "code",
   "execution_count": 1,
   "id": "979556b8",
   "metadata": {},
   "outputs": [],
   "source": [
    "import numpy as np\n",
    "import pandas as pd\n",
    "import matplotlib.pyplot as plt"
   ]
  },
  {
   "cell_type": "code",
   "execution_count": 3,
   "id": "7f93cfec",
   "metadata": {},
   "outputs": [
    {
     "data": {
      "text/html": [
       "<div>\n",
       "<style scoped>\n",
       "    .dataframe tbody tr th:only-of-type {\n",
       "        vertical-align: middle;\n",
       "    }\n",
       "\n",
       "    .dataframe tbody tr th {\n",
       "        vertical-align: top;\n",
       "    }\n",
       "\n",
       "    .dataframe thead th {\n",
       "        text-align: right;\n",
       "    }\n",
       "</style>\n",
       "<table border=\"1\" class=\"dataframe\">\n",
       "  <thead>\n",
       "    <tr style=\"text-align: right;\">\n",
       "      <th></th>\n",
       "      <th>User_ID</th>\n",
       "      <th>Page_Viewed</th>\n",
       "      <th>Time_Spent_Seconds</th>\n",
       "    </tr>\n",
       "  </thead>\n",
       "  <tbody>\n",
       "    <tr>\n",
       "      <th>0</th>\n",
       "      <td>User_3198</td>\n",
       "      <td>Homepage</td>\n",
       "      <td>560</td>\n",
       "    </tr>\n",
       "    <tr>\n",
       "      <th>1</th>\n",
       "      <td>User_126</td>\n",
       "      <td>Category Page</td>\n",
       "      <td>168</td>\n",
       "    </tr>\n",
       "    <tr>\n",
       "      <th>2</th>\n",
       "      <td>User_1376</td>\n",
       "      <td>Category Page</td>\n",
       "      <td>122</td>\n",
       "    </tr>\n",
       "    <tr>\n",
       "      <th>3</th>\n",
       "      <td>User_1117</td>\n",
       "      <td>Cart Page</td>\n",
       "      <td>329</td>\n",
       "    </tr>\n",
       "    <tr>\n",
       "      <th>4</th>\n",
       "      <td>User_3683</td>\n",
       "      <td>Category Page</td>\n",
       "      <td>391</td>\n",
       "    </tr>\n",
       "    <tr>\n",
       "      <th>...</th>\n",
       "      <td>...</td>\n",
       "      <td>...</td>\n",
       "      <td>...</td>\n",
       "    </tr>\n",
       "    <tr>\n",
       "      <th>4995</th>\n",
       "      <td>User_3045</td>\n",
       "      <td>Checkout Page</td>\n",
       "      <td>284</td>\n",
       "    </tr>\n",
       "    <tr>\n",
       "      <th>4996</th>\n",
       "      <td>User_1583</td>\n",
       "      <td>Cart Page</td>\n",
       "      <td>322</td>\n",
       "    </tr>\n",
       "    <tr>\n",
       "      <th>4997</th>\n",
       "      <td>User_2627</td>\n",
       "      <td>Checkout Page</td>\n",
       "      <td>559</td>\n",
       "    </tr>\n",
       "    <tr>\n",
       "      <th>4998</th>\n",
       "      <td>User_4976</td>\n",
       "      <td>Product Page</td>\n",
       "      <td>373</td>\n",
       "    </tr>\n",
       "    <tr>\n",
       "      <th>4999</th>\n",
       "      <td>User_1770</td>\n",
       "      <td>Homepage</td>\n",
       "      <td>104</td>\n",
       "    </tr>\n",
       "  </tbody>\n",
       "</table>\n",
       "<p>5000 rows × 3 columns</p>\n",
       "</div>"
      ],
      "text/plain": [
       "        User_ID    Page_Viewed  Time_Spent_Seconds\n",
       "0     User_3198       Homepage                 560\n",
       "1      User_126  Category Page                 168\n",
       "2     User_1376  Category Page                 122\n",
       "3     User_1117      Cart Page                 329\n",
       "4     User_3683  Category Page                 391\n",
       "...         ...            ...                 ...\n",
       "4995  User_3045  Checkout Page                 284\n",
       "4996  User_1583      Cart Page                 322\n",
       "4997  User_2627  Checkout Page                 559\n",
       "4998  User_4976   Product Page                 373\n",
       "4999  User_1770       Homepage                 104\n",
       "\n",
       "[5000 rows x 3 columns]"
      ]
     },
     "execution_count": 3,
     "metadata": {},
     "output_type": "execute_result"
    }
   ],
   "source": [
    "df1 = pd.read_csv(\"user_interactions.csv\")\n",
    "df1"
   ]
  },
  {
   "cell_type": "code",
   "execution_count": 5,
   "id": "d7d159d2",
   "metadata": {},
   "outputs": [
    {
     "name": "stdout",
     "output_type": "stream",
     "text": [
      "User_ID               0\n",
      "Page_Viewed           0\n",
      "Time_Spent_Seconds    0\n",
      "dtype: int64\n"
     ]
    }
   ],
   "source": [
    "#check for missing value\n",
    "print(df1.isnull().sum())\n"
   ]
  },
  {
   "cell_type": "code",
   "execution_count": 12,
   "id": "b4d44ca3",
   "metadata": {},
   "outputs": [
    {
     "name": "stdout",
     "output_type": "stream",
     "text": [
      "count         5000\n",
      "unique           5\n",
      "top       Homepage\n",
      "freq          1045\n",
      "Name: Page_Viewed, dtype: object\n"
     ]
    }
   ],
   "source": [
    "#check for outliers\n",
    "print(df1['Page_Viewed'].describe())"
   ]
  },
  {
   "cell_type": "code",
   "execution_count": 20,
   "id": "983b7a94",
   "metadata": {},
   "outputs": [
    {
     "name": "stdout",
     "output_type": "stream",
     "text": [
      "None\n"
     ]
    }
   ],
   "source": [
    "# Fix any data quality issues\n",
    "print(df1['Page_Viewed'].replace(to_replace=-1, value=0, inplace=True))"
   ]
  },
  {
   "cell_type": "code",
   "execution_count": 45,
   "id": "a3c6198b",
   "metadata": {},
   "outputs": [
    {
     "name": "stdout",
     "output_type": "stream",
     "text": [
      "Page_Viewed\n",
      "Homepage         1045\n",
      "Cart Page        1041\n",
      "Checkout Page     989\n",
      "Category Page     972\n",
      "Product Page      953\n",
      "Name: count, dtype: int64\n"
     ]
    }
   ],
   "source": [
    "#Analyze user behavior\n",
    "\n",
    "most_visited_pages = df1['Page_Viewed'].value_counts().head(10)\n",
    "print(most_visited_pages)"
   ]
  },
  {
   "cell_type": "code",
   "execution_count": 22,
   "id": "93a29e4d",
   "metadata": {},
   "outputs": [
    {
     "name": "stdout",
     "output_type": "stream",
     "text": [
      "304.5088\n"
     ]
    }
   ],
   "source": [
    "Avg_time_spent_on_page = df1['Time_Spent_Seconds'].mean()\n",
    "print(Avg_time_spent_on_page)"
   ]
  },
  {
   "cell_type": "code",
   "execution_count": 24,
   "id": "87e66596",
   "metadata": {},
   "outputs": [
    {
     "data": {
      "text/html": [
       "<div>\n",
       "<style scoped>\n",
       "    .dataframe tbody tr th:only-of-type {\n",
       "        vertical-align: middle;\n",
       "    }\n",
       "\n",
       "    .dataframe tbody tr th {\n",
       "        vertical-align: top;\n",
       "    }\n",
       "\n",
       "    .dataframe thead th {\n",
       "        text-align: right;\n",
       "    }\n",
       "</style>\n",
       "<table border=\"1\" class=\"dataframe\">\n",
       "  <thead>\n",
       "    <tr style=\"text-align: right;\">\n",
       "      <th></th>\n",
       "      <th>Purchase_ID</th>\n",
       "      <th>User_ID</th>\n",
       "      <th>Product_ID</th>\n",
       "      <th>Transaction_Amount</th>\n",
       "      <th>Purchase_Time</th>\n",
       "    </tr>\n",
       "  </thead>\n",
       "  <tbody>\n",
       "    <tr>\n",
       "      <th>0</th>\n",
       "      <td>Purchase_948</td>\n",
       "      <td>User_3840</td>\n",
       "      <td>Product_19</td>\n",
       "      <td>62.843031</td>\n",
       "      <td>2023-04-02 16:35:46</td>\n",
       "    </tr>\n",
       "    <tr>\n",
       "      <th>1</th>\n",
       "      <td>Purchase_905</td>\n",
       "      <td>User_1846</td>\n",
       "      <td>Product_9</td>\n",
       "      <td>21.780079</td>\n",
       "      <td>2023-04-14 16:38:27</td>\n",
       "    </tr>\n",
       "    <tr>\n",
       "      <th>2</th>\n",
       "      <td>Purchase_704</td>\n",
       "      <td>User_1700</td>\n",
       "      <td>Product_8</td>\n",
       "      <td>138.264455</td>\n",
       "      <td>2023-01-21 11:21:31</td>\n",
       "    </tr>\n",
       "    <tr>\n",
       "      <th>3</th>\n",
       "      <td>Purchase_766</td>\n",
       "      <td>User_4117</td>\n",
       "      <td>Product_15</td>\n",
       "      <td>74.991367</td>\n",
       "      <td>2023-01-29 04:44:04</td>\n",
       "    </tr>\n",
       "    <tr>\n",
       "      <th>4</th>\n",
       "      <td>Purchase_36</td>\n",
       "      <td>User_3053</td>\n",
       "      <td>Product_7</td>\n",
       "      <td>162.569998</td>\n",
       "      <td>2023-05-24 03:30:23</td>\n",
       "    </tr>\n",
       "    <tr>\n",
       "      <th>...</th>\n",
       "      <td>...</td>\n",
       "      <td>...</td>\n",
       "      <td>...</td>\n",
       "      <td>...</td>\n",
       "      <td>...</td>\n",
       "    </tr>\n",
       "    <tr>\n",
       "      <th>995</th>\n",
       "      <td>Purchase_489</td>\n",
       "      <td>User_2879</td>\n",
       "      <td>Product_14</td>\n",
       "      <td>47.047885</td>\n",
       "      <td>2023-04-10 17:38:54</td>\n",
       "    </tr>\n",
       "    <tr>\n",
       "      <th>996</th>\n",
       "      <td>Purchase_741</td>\n",
       "      <td>User_588</td>\n",
       "      <td>Product_1</td>\n",
       "      <td>85.587089</td>\n",
       "      <td>2023-02-19 15:05:57</td>\n",
       "    </tr>\n",
       "    <tr>\n",
       "      <th>997</th>\n",
       "      <td>Purchase_587</td>\n",
       "      <td>User_3821</td>\n",
       "      <td>Product_16</td>\n",
       "      <td>162.919467</td>\n",
       "      <td>2023-07-14 23:15:18</td>\n",
       "    </tr>\n",
       "    <tr>\n",
       "      <th>998</th>\n",
       "      <td>Purchase_222</td>\n",
       "      <td>User_1804</td>\n",
       "      <td>Product_10</td>\n",
       "      <td>44.435545</td>\n",
       "      <td>2023-03-03 15:37:35</td>\n",
       "    </tr>\n",
       "    <tr>\n",
       "      <th>999</th>\n",
       "      <td>Purchase_609</td>\n",
       "      <td>User_3364</td>\n",
       "      <td>Product_14</td>\n",
       "      <td>147.367700</td>\n",
       "      <td>2023-02-18 17:47:48</td>\n",
       "    </tr>\n",
       "  </tbody>\n",
       "</table>\n",
       "<p>1000 rows × 5 columns</p>\n",
       "</div>"
      ],
      "text/plain": [
       "      Purchase_ID    User_ID  Product_ID  Transaction_Amount  \\\n",
       "0    Purchase_948  User_3840  Product_19           62.843031   \n",
       "1    Purchase_905  User_1846   Product_9           21.780079   \n",
       "2    Purchase_704  User_1700   Product_8          138.264455   \n",
       "3    Purchase_766  User_4117  Product_15           74.991367   \n",
       "4     Purchase_36  User_3053   Product_7          162.569998   \n",
       "..            ...        ...         ...                 ...   \n",
       "995  Purchase_489  User_2879  Product_14           47.047885   \n",
       "996  Purchase_741   User_588   Product_1           85.587089   \n",
       "997  Purchase_587  User_3821  Product_16          162.919467   \n",
       "998  Purchase_222  User_1804  Product_10           44.435545   \n",
       "999  Purchase_609  User_3364  Product_14          147.367700   \n",
       "\n",
       "           Purchase_Time  \n",
       "0    2023-04-02 16:35:46  \n",
       "1    2023-04-14 16:38:27  \n",
       "2    2023-01-21 11:21:31  \n",
       "3    2023-01-29 04:44:04  \n",
       "4    2023-05-24 03:30:23  \n",
       "..                   ...  \n",
       "995  2023-04-10 17:38:54  \n",
       "996  2023-02-19 15:05:57  \n",
       "997  2023-07-14 23:15:18  \n",
       "998  2023-03-03 15:37:35  \n",
       "999  2023-02-18 17:47:48  \n",
       "\n",
       "[1000 rows x 5 columns]"
      ]
     },
     "execution_count": 24,
     "metadata": {},
     "output_type": "execute_result"
    }
   ],
   "source": [
    "df2 = pd.read_csv('purchase_data.csv')\n",
    "df2"
   ]
  },
  {
   "cell_type": "code",
   "execution_count": 58,
   "id": "e91b786d",
   "metadata": {},
   "outputs": [
    {
     "name": "stdout",
     "output_type": "stream",
     "text": [
      "21.26974870093248 %\n"
     ]
    }
   ],
   "source": [
    "#Purchase analysis\n",
    "Conversion_rate = (df2['Transaction_Amount'].sum()/ df1['Page_Viewed'].count())\n",
    "print(Conversion_rate ,\"%\")"
   ]
  },
  {
   "cell_type": "code",
   "execution_count": 48,
   "id": "4a2cf991",
   "metadata": {},
   "outputs": [
    {
     "name": "stdout",
     "output_type": "stream",
     "text": [
      "Product_ID\n",
      "Product_19    66\n",
      "Product_13    59\n",
      "Product_4     58\n",
      "Product_20    58\n",
      "Product_7     56\n",
      "Product_3     56\n",
      "Product_17    56\n",
      "Product_12    55\n",
      "Product_15    51\n",
      "Product_5     49\n",
      "Name: count, dtype: int64\n"
     ]
    }
   ],
   "source": [
    "Top_selling_products = df2['Product_ID'].value_counts().head(10)\n",
    "print(Top_selling_products)"
   ]
  },
  {
   "cell_type": "code",
   "execution_count": 52,
   "id": "4c852f40",
   "metadata": {},
   "outputs": [
    {
     "name": "stdout",
     "output_type": "stream",
     "text": [
      "Purchase_Time\n",
      "2023-01-01 14:17:21    135.854417\n",
      "2023-01-01 15:23:37    157.522460\n",
      "2023-01-01 22:08:04    196.253073\n",
      "2023-01-02 03:03:25     20.995437\n",
      "2023-01-02 12:43:07     65.055937\n",
      "                          ...    \n",
      "2023-07-28 02:36:01    184.290431\n",
      "2023-07-28 17:22:37    136.615615\n",
      "2023-07-28 18:55:29    156.422763\n",
      "2023-07-28 19:15:58     69.193960\n",
      "2023-07-29 07:42:50     88.898143\n",
      "Name: Transaction_Amount, Length: 1000, dtype: float64\n"
     ]
    }
   ],
   "source": [
    "#cohort analysis\n",
    "Cohort_analysis = df2.groupby('Purchase_Time')['Transaction_Amount'].sum()\n",
    "print(Cohort_analysis)"
   ]
  },
  {
   "cell_type": "code",
   "execution_count": 53,
   "id": "bb20b413",
   "metadata": {},
   "outputs": [
    {
     "data": {
      "text/html": [
       "<div>\n",
       "<style scoped>\n",
       "    .dataframe tbody tr th:only-of-type {\n",
       "        vertical-align: middle;\n",
       "    }\n",
       "\n",
       "    .dataframe tbody tr th {\n",
       "        vertical-align: top;\n",
       "    }\n",
       "\n",
       "    .dataframe thead th {\n",
       "        text-align: right;\n",
       "    }\n",
       "</style>\n",
       "<table border=\"1\" class=\"dataframe\">\n",
       "  <thead>\n",
       "    <tr style=\"text-align: right;\">\n",
       "      <th></th>\n",
       "      <th>Month</th>\n",
       "      <th>Page_Load_Time</th>\n",
       "      <th>Bounce_Rate</th>\n",
       "      <th>Conversion_Rate</th>\n",
       "    </tr>\n",
       "  </thead>\n",
       "  <tbody>\n",
       "    <tr>\n",
       "      <th>0</th>\n",
       "      <td>2023-01-01</td>\n",
       "      <td>5.106652</td>\n",
       "      <td>0.514345</td>\n",
       "      <td>0.047375</td>\n",
       "    </tr>\n",
       "    <tr>\n",
       "      <th>1</th>\n",
       "      <td>2023-02-01</td>\n",
       "      <td>7.828199</td>\n",
       "      <td>0.317157</td>\n",
       "      <td>0.062764</td>\n",
       "    </tr>\n",
       "    <tr>\n",
       "      <th>2</th>\n",
       "      <td>2023-03-01</td>\n",
       "      <td>3.239983</td>\n",
       "      <td>0.480903</td>\n",
       "      <td>0.050514</td>\n",
       "    </tr>\n",
       "    <tr>\n",
       "      <th>3</th>\n",
       "      <td>2023-04-01</td>\n",
       "      <td>5.954509</td>\n",
       "      <td>0.473572</td>\n",
       "      <td>0.057151</td>\n",
       "    </tr>\n",
       "    <tr>\n",
       "      <th>4</th>\n",
       "      <td>2023-05-01</td>\n",
       "      <td>9.872398</td>\n",
       "      <td>0.542407</td>\n",
       "      <td>0.089525</td>\n",
       "    </tr>\n",
       "    <tr>\n",
       "      <th>5</th>\n",
       "      <td>2023-06-01</td>\n",
       "      <td>7.333456</td>\n",
       "      <td>0.440715</td>\n",
       "      <td>0.048687</td>\n",
       "    </tr>\n",
       "    <tr>\n",
       "      <th>6</th>\n",
       "      <td>2023-07-01</td>\n",
       "      <td>3.372264</td>\n",
       "      <td>0.390081</td>\n",
       "      <td>0.048440</td>\n",
       "    </tr>\n",
       "    <tr>\n",
       "      <th>7</th>\n",
       "      <td>2023-08-01</td>\n",
       "      <td>7.115272</td>\n",
       "      <td>0.489165</td>\n",
       "      <td>0.038263</td>\n",
       "    </tr>\n",
       "    <tr>\n",
       "      <th>8</th>\n",
       "      <td>2023-09-01</td>\n",
       "      <td>8.384957</td>\n",
       "      <td>0.301692</td>\n",
       "      <td>0.063365</td>\n",
       "    </tr>\n",
       "    <tr>\n",
       "      <th>9</th>\n",
       "      <td>2023-10-01</td>\n",
       "      <td>2.468395</td>\n",
       "      <td>0.566843</td>\n",
       "      <td>0.065971</td>\n",
       "    </tr>\n",
       "    <tr>\n",
       "      <th>10</th>\n",
       "      <td>2023-11-01</td>\n",
       "      <td>4.429745</td>\n",
       "      <td>0.526560</td>\n",
       "      <td>0.065786</td>\n",
       "    </tr>\n",
       "    <tr>\n",
       "      <th>11</th>\n",
       "      <td>2023-12-01</td>\n",
       "      <td>5.289363</td>\n",
       "      <td>0.388364</td>\n",
       "      <td>0.082828</td>\n",
       "    </tr>\n",
       "  </tbody>\n",
       "</table>\n",
       "</div>"
      ],
      "text/plain": [
       "         Month  Page_Load_Time  Bounce_Rate  Conversion_Rate\n",
       "0   2023-01-01        5.106652     0.514345         0.047375\n",
       "1   2023-02-01        7.828199     0.317157         0.062764\n",
       "2   2023-03-01        3.239983     0.480903         0.050514\n",
       "3   2023-04-01        5.954509     0.473572         0.057151\n",
       "4   2023-05-01        9.872398     0.542407         0.089525\n",
       "5   2023-06-01        7.333456     0.440715         0.048687\n",
       "6   2023-07-01        3.372264     0.390081         0.048440\n",
       "7   2023-08-01        7.115272     0.489165         0.038263\n",
       "8   2023-09-01        8.384957     0.301692         0.063365\n",
       "9   2023-10-01        2.468395     0.566843         0.065971\n",
       "10  2023-11-01        4.429745     0.526560         0.065786\n",
       "11  2023-12-01        5.289363     0.388364         0.082828"
      ]
     },
     "execution_count": 53,
     "metadata": {},
     "output_type": "execute_result"
    }
   ],
   "source": [
    "df3 = pd.read_csv(\"website_performance.csv\")\n",
    "df3"
   ]
  },
  {
   "cell_type": "code",
   "execution_count": 57,
   "id": "b97deb5a",
   "metadata": {},
   "outputs": [
    {
     "name": "stdout",
     "output_type": "stream",
     "text": [
      "0.10863607571107275 %\n"
     ]
    }
   ],
   "source": [
    "bounce_rate = (df3['Bounce_Rate'].sum() /df1['Page_Viewed'].count())*100\n",
    "print(bounce_rate,\"%\")"
   ]
  },
  {
   "cell_type": "code",
   "execution_count": 73,
   "id": "4e9bf5a4",
   "metadata": {},
   "outputs": [
    {
     "data": {
      "image/png": "[encoded data removed]",
      "text/plain": [
       "<Figure size 640x480 with 1 Axes>"
      ]
     },
     "metadata": {},
     "output_type": "display_data"
    }
   ],
   "source": [
    "# Create a visualization dashboard\n",
    "# Creating a line chart to visualize the bounce rate\n",
    "plt.plot(df3.Month, df3.Bounce_Rate,'r*-')\n",
    "plt.xlabel('Month')\n",
    "plt.ylabel('Bounce_Rate (%)')\n",
    "plt.show()"
   ]
  },
  {
   "cell_type": "code",
   "execution_count": 75,
   "id": "99fc4cec",
   "metadata": {},
   "outputs": [
    {
     "data": {
      "image/png": "[encoded data removed]",
      "text/plain": [
       "<Figure size 640x480 with 1 Axes>"
      ]
     },
     "metadata": {},
     "output_type": "display_data"
    }
   ],
   "source": [
    "# Create a line chart to visualize the conversion rate\n",
    "plt.plot(df3.Month, df3.Conversion_Rate,'b*-')\n",
    "plt.xlabel('Date')\n",
    "plt.ylabel('Conversion Rate (%)')\n",
    "plt.show()"
   ]
  },
  {
   "cell_type": "code",
   "execution_count": null,
   "id": "54c6a6b0",
   "metadata": {},
   "outputs": [],
   "source": []
  }
 ],
 "metadata": {
  "kernelspec": {
   "display_name": "Python 3 (ipykernel)",
   "language": "python",
   "name": "python3"
  },
  "language_info": {
   "codemirror_mode": {
    "name": "ipython",
    "version": 3
   },
   "file_extension": ".py",
   "mimetype": "text/x-python",
   "name": "python",
   "nbconvert_exporter": "python",
   "pygments_lexer": "ipython3",
   "version": "3.11.4"
  }
 },
 "nbformat": 4,
 "nbformat_minor": 5
}
